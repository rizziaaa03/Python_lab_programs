{
  "nbformat": 4,
  "nbformat_minor": 0,
  "metadata": {
    "colab": {
      "provenance": []
    },
    "kernelspec": {
      "name": "python3",
      "display_name": "Python 3"
    },
    "language_info": {
      "name": "python"
    }
  },
  "cells": [
    {
      "cell_type": "code",
      "execution_count": null,
      "metadata": {
        "id": "CbFpXZaWo-To"
      },
      "outputs": [],
      "source": []
    },
    {
      "cell_type": "markdown",
      "source": [
        "#  Week 1"
      ],
      "metadata": {
        "id": "Iq4PXj9xroR5"
      }
    },
    {
      "cell_type": "markdown",
      "source": [
        "**x = 5\n",
        "y = \"John\"\n",
        "z = 10.5\n",
        "print(x)\n",
        "print(y)\n",
        "print(z)\n",
        "**"
      ],
      "metadata": {
        "id": "7FJLv2zHqtM0"
      }
    },
    {
      "cell_type": "code",
      "source": [],
      "metadata": {
        "id": "1VNmO7_wrPq6"
      },
      "execution_count": null,
      "outputs": []
    }
  ]
}